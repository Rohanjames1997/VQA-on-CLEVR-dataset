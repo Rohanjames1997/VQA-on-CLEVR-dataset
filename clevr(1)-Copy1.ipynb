{
 "cells": [
  {
   "cell_type": "code",
   "execution_count": 2,
   "metadata": {},
   "outputs": [
    {
     "name": "stderr",
     "output_type": "stream",
     "text": [
      "Using TensorFlow backend.\n"
     ]
    }
   ],
   "source": [
    "from __future__ import print_function\n",
    "import json\n",
    "import os.path\n",
    "import random as ra\n",
    "import tensorflow as tf\n",
    "import numpy as np\n",
    "import keras\n",
    "from keras.optimizers import Adam\n",
    "from keras import backend as K\n",
    "from keras.layers import Input, Dense, Dropout, BatchNormalization, Reshape, Lambda, Embedding, LSTM, Conv2D, MaxPooling2D, TimeDistributed, RepeatVector, Concatenate, Multiply\n",
    "from keras.models import Model\n",
    "from keras.preprocessing.text import Tokenizer\n",
    "from keras.preprocessing import sequence\n",
    "from keras.callbacks import ModelCheckpoint, TensorBoard\n",
    "from scipy import ndimage, misc\n",
    "from imageio import imread\n",
    "from keras.utils.vis_utils import plot_model\n",
    "from numpy import array\n",
    "from numpy import argmax\n",
    "from sklearn.preprocessing import LabelEncoder\n",
    "from sklearn.preprocessing import OneHotEncoder\n"
   ]
  },
  {
   "cell_type": "code",
   "execution_count": 3,
   "metadata": {},
   "outputs": [],
   "source": [
    "json1_file = open('Training/Quest_Answers.json')"
   ]
  },
  {
   "cell_type": "code",
   "execution_count": 4,
   "metadata": {},
   "outputs": [],
   "source": [
    "json1_str = json1_file.read()"
   ]
  },
  {
   "cell_type": "code",
   "execution_count": 5,
   "metadata": {},
   "outputs": [],
   "source": [
    "json1_data = json.loads(json1_str)"
   ]
  },
  {
   "cell_type": "code",
   "execution_count": 6,
   "metadata": {},
   "outputs": [],
   "source": [
    "json1_data = json1_data['quest_answers']"
   ]
  },
  {
   "cell_type": "code",
   "execution_count": 7,
   "metadata": {},
   "outputs": [
    {
     "data": {
      "text/plain": [
       "135020"
      ]
     },
     "execution_count": 7,
     "metadata": {},
     "output_type": "execute_result"
    }
   ],
   "source": [
    "len(json1_data)"
   ]
  },
  {
   "cell_type": "code",
   "execution_count": 10,
   "metadata": {},
   "outputs": [],
   "source": [
    "q=[a['Question'] for a in json1_data ]"
   ]
  },
  {
   "cell_type": "code",
   "execution_count": 22,
   "metadata": {},
   "outputs": [
    {
     "data": {
      "text/plain": [
       "135020"
      ]
     },
     "execution_count": 22,
     "metadata": {},
     "output_type": "execute_result"
    }
   ],
   "source": [
    "len(q)"
   ]
  },
  {
   "cell_type": "code",
   "execution_count": 36,
   "metadata": {},
   "outputs": [],
   "source": [
    "lens = []\n",
    "for i in range (len(q)):\n",
    "    lens.extend(q[i].split())"
   ]
  },
  {
   "cell_type": "code",
   "execution_count": 41,
   "metadata": {
    "scrolled": false
   },
   "outputs": [
    {
     "data": {
      "text/plain": [
       "['There', 'is', 'a', 'metal', 'thing']"
      ]
     },
     "execution_count": 41,
     "metadata": {},
     "output_type": "execute_result"
    }
   ],
   "source": [
    "lens[0:5]"
   ]
  },
  {
   "cell_type": "code",
   "execution_count": 42,
   "metadata": {},
   "outputs": [],
   "source": [
    "from collections import Counter "
   ]
  },
  {
   "cell_type": "code",
   "execution_count": 43,
   "metadata": {},
   "outputs": [],
   "source": [
    "Counter = Counter(lens) "
   ]
  },
  {
   "cell_type": "code",
   "execution_count": 52,
   "metadata": {},
   "outputs": [
    {
     "name": "stdout",
     "output_type": "stream",
     "text": [
      "[('the', 348314), ('is', 144688), ('of', 142252), ('that', 79365), ('same', 68596), ('as', 61568), ('thing', 43831), ('big', 42187), ('object', 41881), ('are', 41818), ('rubber', 39696), ('large', 39479), ('tiny', 39446), ('matte', 39221), ('small', 38922), ('What', 35438), ('a', 33043), ('There', 30215), ('number', 29080), ('left', 28754), ('behind', 28630), ('right', 28513), ('in', 28472), ('front', 28472), ('there', 27403), ('what', 26588), ('metallic', 26506), ('metal', 26384), ('shiny', 26197), ('things', 23554), ('brown', 22984), ('shape', 22920), ('red', 22734), ('color', 22685), ('purple', 22638), ('cyan', 22468), ('cylinder', 22459), ('green', 22409), ('gray', 22358), ('yellow', 22267), ('blue', 22010), ('size', 21623), ('objects', 21256), ('Is', 20800), ('material', 20767), ('to', 19161), ('on', 19119), ('side', 19119), ('have', 16962), ('thing?', 16799), ('object?', 16727), ('How', 16214), ('many', 16018), ('and', 15616), ('Are', 15404), ('cylinder?', 14372), ('other', 13868), ('it?', 13488), ('or', 12096), ('ball', 11479), ('sphere', 11388), ('block', 11273), ('cube', 11250), ('any', 11081), ('made', 10488), ('its', 10258), ('cylinders', 9242), ('than', 9133), ('The', 7727), ('cube?', 7359), ('sphere?', 7284), ('block?', 7225), ('ball?', 7169), ('it', 6469), ('thing;', 6436), ('object;', 6427), ('color?', 6101), ('either', 6006), ('shape?', 5865), ('cylinder;', 5725), ('material?', 5013), ('has', 4928), ('size?', 4796), ('Do', 4766), ('cubes', 4642), ('balls', 4588), ('spheres', 4559), ('Does', 4456), ('blocks', 4455), ('both', 3745), ('things?', 3535), ('objects?', 3491), ('cylinders?', 3376), ('of?', 3368), ('sphere;', 2988), ('ball;', 2969), ('block;', 2883), ('cube;', 2787), ('does', 2326), ('fewer', 2303), ('greater', 2289), ('less', 2288), ('more', 2253), ('another', 2210), ('how', 2168), ('anything', 2087), ('else', 2087), ('cubes?', 1748), ('spheres?', 1741), ('balls?', 1706), ('blocks?', 1647), ('there?', 1512), ('an', 1028), ('equal', 1028), ('visible?', 478)]\n"
     ]
    }
   ],
   "source": [
    "most_occur = Counter.most_common(115) \n",
    "  \n",
    "print(most_occur) "
   ]
  },
  {
   "cell_type": "code",
   "execution_count": 45,
   "metadata": {},
   "outputs": [
    {
     "data": {
      "text/plain": [
       "2473483"
      ]
     },
     "execution_count": 45,
     "metadata": {},
     "output_type": "execute_result"
    }
   ],
   "source": [
    "len(lens)"
   ]
  },
  {
   "cell_type": "code",
   "execution_count": 46,
   "metadata": {},
   "outputs": [],
   "source": [
    "setlens = set(lens)"
   ]
  },
  {
   "cell_type": "code",
   "execution_count": 48,
   "metadata": {},
   "outputs": [
    {
     "data": {
      "text/plain": [
       "115"
      ]
     },
     "execution_count": 48,
     "metadata": {},
     "output_type": "execute_result"
    }
   ],
   "source": [
    "len(setlens)"
   ]
  },
  {
   "cell_type": "code",
   "execution_count": 24,
   "metadata": {},
   "outputs": [
    {
     "data": {
      "text/plain": [
       "False"
      ]
     },
     "execution_count": 24,
     "metadata": {},
     "output_type": "execute_result"
    }
   ],
   "source": [
    "isinstance(1,bool)"
   ]
  },
  {
   "cell_type": "code",
   "execution_count": 47,
   "metadata": {},
   "outputs": [],
   "source": [
    "for i in range(len(p)):\n",
    "    if (p[i] is False):\n",
    "        p[i] = 'False'\n",
    "    if (p[i] is True):\n",
    "        p[i] = 'True'"
   ]
  },
  {
   "cell_type": "code",
   "execution_count": 49,
   "metadata": {},
   "outputs": [],
   "source": [
    "p = set(p)"
   ]
  },
  {
   "cell_type": "code",
   "execution_count": 51,
   "metadata": {},
   "outputs": [
    {
     "data": {
      "text/plain": [
       "26"
      ]
     },
     "execution_count": 51,
     "metadata": {},
     "output_type": "execute_result"
    }
   ],
   "source": [
    "len(p)"
   ]
  },
  {
   "cell_type": "code",
   "execution_count": 41,
   "metadata": {
    "scrolled": true
   },
   "outputs": [
    {
     "data": {
      "text/plain": [
       "False"
      ]
     },
     "execution_count": 41,
     "metadata": {},
     "output_type": "execute_result"
    }
   ],
   "source": [
    "0 is False"
   ]
  },
  {
   "cell_type": "code",
   "execution_count": 52,
   "metadata": {},
   "outputs": [
    {
     "data": {
      "text/plain": [
       "{0,\n",
       " 1,\n",
       " 2,\n",
       " 3,\n",
       " 4,\n",
       " 5,\n",
       " 6,\n",
       " 7,\n",
       " 8,\n",
       " 'False',\n",
       " 'True',\n",
       " 'blue',\n",
       " 'brown',\n",
       " 'cube',\n",
       " 'cyan',\n",
       " 'cylinder',\n",
       " 'gray',\n",
       " 'green',\n",
       " 'large',\n",
       " 'metal',\n",
       " 'purple',\n",
       " 'red',\n",
       " 'rubber',\n",
       " 'small',\n",
       " 'sphere',\n",
       " 'yellow'}"
      ]
     },
     "execution_count": 52,
     "metadata": {},
     "output_type": "execute_result"
    }
   ],
   "source": [
    "p"
   ]
  },
  {
   "cell_type": "code",
   "execution_count": 42,
   "metadata": {},
   "outputs": [
    {
     "data": {
      "text/plain": [
       "False"
      ]
     },
     "execution_count": 42,
     "metadata": {},
     "output_type": "execute_result"
    }
   ],
   "source": [
    "False is 0"
   ]
  },
  {
   "cell_type": "code",
   "execution_count": 58,
   "metadata": {
    "scrolled": true
   },
   "outputs": [
    {
     "data": {
      "text/plain": [
       "array(['0', 'False', 'large', ..., '0', '0', '1'], dtype='<U11')"
      ]
     },
     "execution_count": 58,
     "metadata": {},
     "output_type": "execute_result"
    }
   ],
   "source": [
    "array(q)"
   ]
  },
  {
   "cell_type": "code",
   "execution_count": 59,
   "metadata": {},
   "outputs": [
    {
     "name": "stderr",
     "output_type": "stream",
     "text": [
      "C:\\Users\\Rohan\\Anaconda3\\envs\\tensorflow_gpu\\lib\\site-packages\\sklearn\\preprocessing\\_encoders.py:363: FutureWarning: The handling of integer data will change in version 0.22. Currently, the categories are determined based on the range [0, max(values)], while in the future they will be determined based on the unique values.\n",
      "If you want the future behaviour and silence this warning, you can specify \"categories='auto'\".\n",
      "In case you used a LabelEncoder before this OneHotEncoder to convert the categories to integers, then you can now use the OneHotEncoder directly.\n",
      "  warnings.warn(msg, FutureWarning)\n"
     ]
    }
   ],
   "source": [
    "label_encoder = LabelEncoder()\n",
    "integer_encoded = label_encoder.fit_transform(q)\n",
    "# print(integer_encoded)\n",
    "# binary encode\n",
    "onehot_encoder = OneHotEncoder(sparse=False)\n",
    "integer_encoded = integer_encoded.reshape(len(integer_encoded), 1)\n",
    "onehot_encoded = onehot_encoder.fit_transform(integer_encoded)"
   ]
  },
  {
   "cell_type": "code",
   "execution_count": 66,
   "metadata": {
    "scrolled": false
   },
   "outputs": [
    {
     "data": {
      "text/plain": [
       "array([0., 0., 0., 0., 0., 0., 0., 0., 0., 1., 0., 0., 0., 0., 0., 0., 0.,\n",
       "       0., 0., 0., 0., 0., 0., 0., 0., 0.])"
      ]
     },
     "execution_count": 66,
     "metadata": {},
     "output_type": "execute_result"
    }
   ],
   "source": [
    "onehot_encoded[1]"
   ]
  },
  {
   "cell_type": "code",
   "execution_count": null,
   "metadata": {},
   "outputs": [],
   "source": [
    " label_encoder.inverse_transform([argmax(2)])"
   ]
  },
  {
   "cell_type": "code",
   "execution_count": 64,
   "metadata": {
    "scrolled": false
   },
   "outputs": [
    {
     "data": {
      "text/plain": [
       "[0,\n",
       " False,\n",
       " 'large',\n",
       " 'cylinder',\n",
       " 'cyan',\n",
       " 'metal',\n",
       " False,\n",
       " False,\n",
       " True,\n",
       " False,\n",
       " True,\n",
       " False,\n",
       " False,\n",
       " False,\n",
       " False,\n",
       " False,\n",
       " True,\n",
       " False,\n",
       " False,\n",
       " 0,\n",
       " 1,\n",
       " 2,\n",
       " 1,\n",
       " False,\n",
       " False,\n",
       " True,\n",
       " True,\n",
       " 0,\n",
       " 0,\n",
       " 1,\n",
       " 0,\n",
       " 'purple',\n",
       " 'rubber',\n",
       " 'cylinder',\n",
       " 'small',\n",
       " 'metal',\n",
       " 'cylinder',\n",
       " 'large',\n",
       " 'brown',\n",
       " 'sphere',\n",
       " 'small',\n",
       " 'green',\n",
       " 'rubber',\n",
       " 2,\n",
       " False,\n",
       " 'small',\n",
       " 'cyan',\n",
       " 'rubber',\n",
       " 'cylinder',\n",
       " 0,\n",
       " 'small',\n",
       " 'red',\n",
       " 'metal',\n",
       " 'cylinder',\n",
       " 3,\n",
       " 2,\n",
       " 1,\n",
       " 2,\n",
       " 1,\n",
       " 1,\n",
       " 1,\n",
       " 1,\n",
       " 4,\n",
       " False,\n",
       " 'small',\n",
       " 'brown',\n",
       " 'rubber',\n",
       " 'cube',\n",
       " True,\n",
       " False,\n",
       " False,\n",
       " True,\n",
       " False,\n",
       " False,\n",
       " False,\n",
       " False,\n",
       " True,\n",
       " False,\n",
       " True,\n",
       " False,\n",
       " False,\n",
       " False,\n",
       " False,\n",
       " False,\n",
       " 0,\n",
       " False,\n",
       " 'cylinder',\n",
       " 'rubber',\n",
       " 'cyan',\n",
       " 'small',\n",
       " 1,\n",
       " True,\n",
       " 'small',\n",
       " 'cube',\n",
       " 'brown',\n",
       " True,\n",
       " False,\n",
       " True,\n",
       " False,\n",
       " True,\n",
       " 'rubber',\n",
       " True,\n",
       " True,\n",
       " True,\n",
       " True,\n",
       " False,\n",
       " True,\n",
       " True,\n",
       " 2,\n",
       " 0,\n",
       " 1,\n",
       " 0,\n",
       " True,\n",
       " True,\n",
       " False,\n",
       " False,\n",
       " 1,\n",
       " 1,\n",
       " 2,\n",
       " 2,\n",
       " 'cyan',\n",
       " 'sphere',\n",
       " 'large',\n",
       " 'rubber',\n",
       " 'sphere',\n",
       " 'small',\n",
       " 'green',\n",
       " 'cube',\n",
       " 0,\n",
       " True,\n",
       " 'metal',\n",
       " 'large',\n",
       " 'blue',\n",
       " 'metal',\n",
       " 'large',\n",
       " 'blue',\n",
       " 'metal',\n",
       " 'sphere',\n",
       " 5,\n",
       " 'large',\n",
       " 'gray',\n",
       " 'rubber',\n",
       " 'sphere',\n",
       " 2,\n",
       " 0,\n",
       " 0,\n",
       " 3,\n",
       " 3,\n",
       " 2,\n",
       " 3,\n",
       " 2,\n",
       " 0,\n",
       " True,\n",
       " 'large',\n",
       " 'cyan',\n",
       " 'cylinder',\n",
       " False,\n",
       " True,\n",
       " True,\n",
       " True,\n",
       " 'metal',\n",
       " False,\n",
       " True,\n",
       " True,\n",
       " True,\n",
       " True,\n",
       " False,\n",
       " True,\n",
       " False,\n",
       " True,\n",
       " True,\n",
       " True,\n",
       " True,\n",
       " 1,\n",
       " True,\n",
       " 'sphere',\n",
       " 'metal',\n",
       " 'yellow',\n",
       " 'large',\n",
       " 0,\n",
       " False,\n",
       " 'large',\n",
       " 'cylinder',\n",
       " 'red',\n",
       " 'rubber',\n",
       " False,\n",
       " True,\n",
       " False,\n",
       " True,\n",
       " False,\n",
       " True,\n",
       " True,\n",
       " True,\n",
       " True,\n",
       " False,\n",
       " True,\n",
       " True,\n",
       " 1,\n",
       " 0,\n",
       " 2,\n",
       " 2,\n",
       " True,\n",
       " False,\n",
       " False,\n",
       " True,\n",
       " 1,\n",
       " 0,\n",
       " 0,\n",
       " 0,\n",
       " 'red',\n",
       " 'metal',\n",
       " 'cylinder',\n",
       " 'large',\n",
       " 'cyan',\n",
       " 'cylinder',\n",
       " 'small',\n",
       " 'gray',\n",
       " 'rubber',\n",
       " 0,\n",
       " False,\n",
       " 'large',\n",
       " 'metal',\n",
       " 'cube',\n",
       " 'large',\n",
       " 'purple',\n",
       " 'rubber',\n",
       " 'cylinder',\n",
       " 0,\n",
       " 'small',\n",
       " 'gray',\n",
       " 'metal',\n",
       " 'cylinder',\n",
       " 5,\n",
       " 2,\n",
       " 0,\n",
       " 5,\n",
       " 0,\n",
       " 1,\n",
       " 1,\n",
       " 2,\n",
       " 0,\n",
       " False,\n",
       " 'small',\n",
       " 'red',\n",
       " 'rubber',\n",
       " 'sphere',\n",
       " True,\n",
       " False,\n",
       " False,\n",
       " False,\n",
       " True,\n",
       " True,\n",
       " True,\n",
       " False,\n",
       " False,\n",
       " False,\n",
       " True,\n",
       " True,\n",
       " True,\n",
       " False,\n",
       " True,\n",
       " False,\n",
       " 0,\n",
       " False,\n",
       " 'cube',\n",
       " 'metal',\n",
       " 'brown',\n",
       " 'large',\n",
       " 1,\n",
       " True,\n",
       " 'small',\n",
       " 'cube',\n",
       " 'purple',\n",
       " 'metal',\n",
       " True,\n",
       " False,\n",
       " True,\n",
       " False,\n",
       " True,\n",
       " False,\n",
       " False,\n",
       " False,\n",
       " True,\n",
       " False,\n",
       " 3,\n",
       " 1,\n",
       " 4,\n",
       " 2,\n",
       " False,\n",
       " True,\n",
       " False,\n",
       " False,\n",
       " True,\n",
       " False,\n",
       " 0,\n",
       " 1,\n",
       " 1,\n",
       " 'green',\n",
       " 'rubber',\n",
       " 'cube',\n",
       " 'small',\n",
       " 'brown',\n",
       " 'cylinder',\n",
       " 'large',\n",
       " 'yellow',\n",
       " 'metal',\n",
       " 1,\n",
       " True,\n",
       " 'small',\n",
       " 'brown',\n",
       " 1,\n",
       " 'small',\n",
       " 'rubber',\n",
       " 'sphere',\n",
       " 'metal',\n",
       " 'sphere',\n",
       " 1,\n",
       " 'large',\n",
       " 'cyan',\n",
       " 'rubber',\n",
       " 'sphere',\n",
       " 3,\n",
       " 1,\n",
       " 1,\n",
       " 2,\n",
       " 1,\n",
       " 2,\n",
       " 2,\n",
       " 3,\n",
       " 1,\n",
       " True,\n",
       " 'large',\n",
       " 'yellow',\n",
       " 'metal',\n",
       " 'cube',\n",
       " False,\n",
       " True,\n",
       " True,\n",
       " False,\n",
       " False,\n",
       " True,\n",
       " True,\n",
       " True,\n",
       " True,\n",
       " False,\n",
       " True,\n",
       " 1,\n",
       " True,\n",
       " 'cylinder',\n",
       " 'rubber',\n",
       " True,\n",
       " False,\n",
       " False,\n",
       " False,\n",
       " False,\n",
       " 'green',\n",
       " 'small',\n",
       " 0,\n",
       " False,\n",
       " 'small',\n",
       " 'sphere',\n",
       " 'brown',\n",
       " 'metal',\n",
       " True,\n",
       " True,\n",
       " True,\n",
       " True,\n",
       " False,\n",
       " True,\n",
       " True,\n",
       " False,\n",
       " False,\n",
       " False,\n",
       " False,\n",
       " False,\n",
       " 1,\n",
       " 1,\n",
       " 0,\n",
       " 0,\n",
       " False,\n",
       " False,\n",
       " False,\n",
       " False,\n",
       " 0,\n",
       " 0,\n",
       " 0,\n",
       " 3,\n",
       " 'blue',\n",
       " 'metal',\n",
       " 'sphere',\n",
       " 'large',\n",
       " 'rubber',\n",
       " 'cylinder',\n",
       " 'large',\n",
       " 'purple',\n",
       " 'sphere',\n",
       " 'large',\n",
       " 'green',\n",
       " 'rubber',\n",
       " 1,\n",
       " False,\n",
       " 'large',\n",
       " 'red',\n",
       " 'rubber',\n",
       " 'sphere',\n",
       " 1,\n",
       " 'large',\n",
       " 'purple',\n",
       " 'rubber',\n",
       " 'sphere',\n",
       " 1,\n",
       " 0,\n",
       " 0,\n",
       " 1,\n",
       " 0,\n",
       " 1,\n",
       " 2,\n",
       " 1,\n",
       " 1,\n",
       " False,\n",
       " 'large',\n",
       " 'gray',\n",
       " 'metal',\n",
       " 'cylinder',\n",
       " False,\n",
       " False,\n",
       " False,\n",
       " True,\n",
       " True,\n",
       " True,\n",
       " True,\n",
       " False,\n",
       " False,\n",
       " False,\n",
       " True,\n",
       " False,\n",
       " False,\n",
       " True,\n",
       " False,\n",
       " True,\n",
       " 0,\n",
       " True,\n",
       " 'sphere',\n",
       " 'metal',\n",
       " 'brown',\n",
       " 'large',\n",
       " 1,\n",
       " True,\n",
       " 'large',\n",
       " 'sphere',\n",
       " 'cyan',\n",
       " 'rubber',\n",
       " False,\n",
       " False,\n",
       " False,\n",
       " False,\n",
       " True,\n",
       " False,\n",
       " False,\n",
       " True,\n",
       " True,\n",
       " True,\n",
       " True,\n",
       " True,\n",
       " 2,\n",
       " 0,\n",
       " 3,\n",
       " 1,\n",
       " True,\n",
       " True,\n",
       " True,\n",
       " True,\n",
       " 2,\n",
       " 1,\n",
       " 0,\n",
       " 1,\n",
       " 'yellow',\n",
       " 'rubber',\n",
       " 'cube',\n",
       " 'small',\n",
       " 'purple',\n",
       " 'cylinder',\n",
       " 0,\n",
       " True,\n",
       " 'small',\n",
       " 'blue',\n",
       " 'metal',\n",
       " 'cylinder',\n",
       " 0,\n",
       " 'small',\n",
       " 'metal',\n",
       " 'cylinder',\n",
       " 'small',\n",
       " 'small',\n",
       " 'cyan',\n",
       " 'metal',\n",
       " 'red',\n",
       " 'metal',\n",
       " 'cylinder',\n",
       " 1,\n",
       " 1,\n",
       " 1,\n",
       " 3,\n",
       " 1,\n",
       " 2,\n",
       " 4,\n",
       " 1,\n",
       " 0,\n",
       " True,\n",
       " 'small',\n",
       " 'gray',\n",
       " 'rubber',\n",
       " 'sphere',\n",
       " True,\n",
       " False,\n",
       " False,\n",
       " False,\n",
       " True,\n",
       " True,\n",
       " True,\n",
       " True,\n",
       " False,\n",
       " False,\n",
       " True,\n",
       " True,\n",
       " False,\n",
       " True,\n",
       " False,\n",
       " 1,\n",
       " False,\n",
       " 'cylinder',\n",
       " 'rubber',\n",
       " 'cyan',\n",
       " 'small',\n",
       " 0,\n",
       " False,\n",
       " 'large',\n",
       " 'sphere',\n",
       " 'gray',\n",
       " 'metal',\n",
       " True,\n",
       " True,\n",
       " True,\n",
       " False,\n",
       " True,\n",
       " False,\n",
       " True,\n",
       " False,\n",
       " False,\n",
       " True,\n",
       " True,\n",
       " False,\n",
       " False,\n",
       " 1,\n",
       " 0,\n",
       " 0,\n",
       " 2,\n",
       " False,\n",
       " False,\n",
       " False,\n",
       " False,\n",
       " 1,\n",
       " 0,\n",
       " 2,\n",
       " 0,\n",
       " 'cyan',\n",
       " 'rubber',\n",
       " 'cylinder',\n",
       " 'small',\n",
       " 'rubber',\n",
       " 3,\n",
       " True,\n",
       " 'large',\n",
       " 'gray',\n",
       " 'rubber',\n",
       " 'sphere',\n",
       " 2,\n",
       " 'large',\n",
       " 'gray',\n",
       " 'rubber',\n",
       " 'sphere',\n",
       " 'small',\n",
       " 'red',\n",
       " 'sphere',\n",
       " 'large',\n",
       " 'gray',\n",
       " 'rubber',\n",
       " 'sphere',\n",
       " 1,\n",
       " 2,\n",
       " 1,\n",
       " 2,\n",
       " 3,\n",
       " 1,\n",
       " 2,\n",
       " 2,\n",
       " 1,\n",
       " True,\n",
       " 'small',\n",
       " 'yellow',\n",
       " 'metal',\n",
       " 'sphere',\n",
       " True,\n",
       " False,\n",
       " False,\n",
       " False,\n",
       " True,\n",
       " True,\n",
       " True,\n",
       " False,\n",
       " False,\n",
       " False,\n",
       " False,\n",
       " True,\n",
       " True,\n",
       " True,\n",
       " False,\n",
       " False,\n",
       " 0,\n",
       " True,\n",
       " 'cube',\n",
       " 'metal',\n",
       " 'red',\n",
       " 'small',\n",
       " 1,\n",
       " True,\n",
       " 'small',\n",
       " 'cube',\n",
       " 'brown',\n",
       " 'rubber',\n",
       " False,\n",
       " False,\n",
       " True,\n",
       " False,\n",
       " True,\n",
       " False,\n",
       " True,\n",
       " True,\n",
       " False,\n",
       " True,\n",
       " False,\n",
       " True,\n",
       " 0,\n",
       " 1,\n",
       " 1,\n",
       " 0,\n",
       " True,\n",
       " True,\n",
       " True,\n",
       " True,\n",
       " 0,\n",
       " 1,\n",
       " 1,\n",
       " 'blue',\n",
       " 'metal',\n",
       " 'sphere',\n",
       " 'large',\n",
       " 'cyan',\n",
       " 'cube',\n",
       " 'small',\n",
       " 'brown',\n",
       " 'metal',\n",
       " 1,\n",
       " False,\n",
       " 'red',\n",
       " 'metal',\n",
       " 'cylinder',\n",
       " 1,\n",
       " 'brown',\n",
       " 'metal',\n",
       " 1,\n",
       " 'large',\n",
       " 'metal',\n",
       " 'cylinder',\n",
       " 'small',\n",
       " 'small',\n",
       " 'cylinder',\n",
       " 2,\n",
       " 3,\n",
       " 0,\n",
       " 1,\n",
       " 0,\n",
       " 0,\n",
       " 1,\n",
       " 2,\n",
       " 0,\n",
       " False,\n",
       " 'large',\n",
       " 'gray',\n",
       " 'rubber',\n",
       " 'cube',\n",
       " False,\n",
       " True,\n",
       " True,\n",
       " False,\n",
       " False,\n",
       " False,\n",
       " True,\n",
       " True,\n",
       " True,\n",
       " True,\n",
       " True,\n",
       " False,\n",
       " False,\n",
       " False,\n",
       " True,\n",
       " True,\n",
       " 1,\n",
       " False,\n",
       " 'cube',\n",
       " 'red',\n",
       " 'large',\n",
       " 0,\n",
       " True,\n",
       " 'large',\n",
       " 'cylinder',\n",
       " 'yellow',\n",
       " 'rubber',\n",
       " False,\n",
       " False,\n",
       " 'rubber',\n",
       " True,\n",
       " False,\n",
       " True,\n",
       " False,\n",
       " False,\n",
       " False,\n",
       " True,\n",
       " False,\n",
       " True,\n",
       " True,\n",
       " 4,\n",
       " 0,\n",
       " 3,\n",
       " 1,\n",
       " False,\n",
       " False,\n",
       " True,\n",
       " True,\n",
       " 1,\n",
       " 0,\n",
       " 4,\n",
       " 0,\n",
       " 'yellow',\n",
       " 'metal',\n",
       " 'sphere',\n",
       " 'small',\n",
       " 'metal',\n",
       " 'sphere',\n",
       " 'small',\n",
       " 'yellow',\n",
       " 'sphere',\n",
       " 'large',\n",
       " 'cyan',\n",
       " 'rubber',\n",
       " 0,\n",
       " True,\n",
       " 'small',\n",
       " 'yellow',\n",
       " 'metal',\n",
       " 'cylinder',\n",
       " 0,\n",
       " 'small',\n",
       " 'cyan',\n",
       " 'rubber',\n",
       " 'cylinder',\n",
       " 2,\n",
       " 1,\n",
       " 0,\n",
       " 1,\n",
       " 1,\n",
       " 0,\n",
       " 2,\n",
       " 5,\n",
       " 1,\n",
       " False,\n",
       " 'small',\n",
       " 'red',\n",
       " 'rubber',\n",
       " 'sphere',\n",
       " False,\n",
       " False,\n",
       " False,\n",
       " False,\n",
       " False,\n",
       " False,\n",
       " True,\n",
       " False,\n",
       " True,\n",
       " False,\n",
       " False,\n",
       " False,\n",
       " True,\n",
       " False,\n",
       " False,\n",
       " True,\n",
       " 1,\n",
       " True,\n",
       " 'cylinder',\n",
       " 'metal',\n",
       " 'green',\n",
       " 'large',\n",
       " 1,\n",
       " False,\n",
       " 'small',\n",
       " 'cube',\n",
       " 'blue',\n",
       " 'metal',\n",
       " True,\n",
       " True,\n",
       " False,\n",
       " True,\n",
       " False,\n",
       " True,\n",
       " True,\n",
       " True,\n",
       " False,\n",
       " True,\n",
       " 0,\n",
       " 1,\n",
       " False,\n",
       " False,\n",
       " 1,\n",
       " 0,\n",
       " True,\n",
       " False,\n",
       " False,\n",
       " 0,\n",
       " 0,\n",
       " 1,\n",
       " True,\n",
       " 1,\n",
       " 'cyan',\n",
       " 'rubber',\n",
       " 'cube',\n",
       " 'large',\n",
       " 'rubber',\n",
       " 'cylinder',\n",
       " 'large',\n",
       " 'red',\n",
       " 'cylinder',\n",
       " 'small',\n",
       " 'green',\n",
       " 'metal',\n",
       " 1,\n",
       " False,\n",
       " 'large',\n",
       " 'red',\n",
       " 'rubber',\n",
       " 'cube',\n",
       " 4,\n",
       " 'large',\n",
       " 'purple',\n",
       " 'metal',\n",
       " 'sphere',\n",
       " 3,\n",
       " 0,\n",
       " 1,\n",
       " 5,\n",
       " 2,\n",
       " 0,\n",
       " 1,\n",
       " 3,\n",
       " 1,\n",
       " True,\n",
       " 'large',\n",
       " 'brown',\n",
       " 'metal',\n",
       " 'cylinder',\n",
       " True,\n",
       " True,\n",
       " True,\n",
       " True,\n",
       " True,\n",
       " True,\n",
       " True,\n",
       " False,\n",
       " True,\n",
       " False,\n",
       " True,\n",
       " True,\n",
       " False,\n",
       " True,\n",
       " True,\n",
       " False,\n",
       " 0,\n",
       " False,\n",
       " 'cube',\n",
       " 'rubber',\n",
       " 'brown',\n",
       " 'small',\n",
       " 0,\n",
       " True,\n",
       " 'large',\n",
       " 'sphere',\n",
       " 'yellow',\n",
       " 'rubber',\n",
       " False,\n",
       " False,\n",
       " False,\n",
       " False,\n",
       " False,\n",
       " True,\n",
       " False,\n",
       " True,\n",
       " True,\n",
       " False,\n",
       " True,\n",
       " True,\n",
       " 2,\n",
       " 1,\n",
       " 3,\n",
       " 1,\n",
       " True,\n",
       " False,\n",
       " True,\n",
       " False,\n",
       " 1,\n",
       " 0,\n",
       " 1,\n",
       " 0,\n",
       " 'gray',\n",
       " 'metal',\n",
       " 'cube',\n",
       " 'small',\n",
       " 'metal',\n",
       " 'cube',\n",
       " 'large',\n",
       " 'gray',\n",
       " 'sphere',\n",
       " 'large',\n",
       " 'cyan',\n",
       " 'rubber',\n",
       " 0,\n",
       " False,\n",
       " 'small',\n",
       " 'blue',\n",
       " 'metal',\n",
       " 'cube',\n",
       " 1,\n",
       " 'large',\n",
       " 'purple',\n",
       " 'metal',\n",
       " 'sphere',\n",
       " 1,\n",
       " 0,\n",
       " 0,\n",
       " 2,\n",
       " 0,\n",
       " 2,\n",
       " 3,\n",
       " 3,\n",
       " 0,\n",
       " False,\n",
       " 1,\n",
       " True,\n",
       " 'sphere',\n",
       " 'rubber',\n",
       " 'cyan',\n",
       " 'small',\n",
       " 'large',\n",
       " 'blue',\n",
       " 'metal',\n",
       " 'cylinder',\n",
       " False,\n",
       " False,\n",
       " False,\n",
       " False,\n",
       " False,\n",
       " False,\n",
       " False,\n",
       " False,\n",
       " False,\n",
       " False,\n",
       " True,\n",
       " True,\n",
       " True,\n",
       " True,\n",
       " False,\n",
       " True,\n",
       " 1,\n",
       " False,\n",
       " 'small',\n",
       " 'cube',\n",
       " 'cyan',\n",
       " 'metal',\n",
       " True,\n",
       " True,\n",
       " True,\n",
       " True,\n",
       " True,\n",
       " False,\n",
       " True,\n",
       " False,\n",
       " False,\n",
       " False,\n",
       " False,\n",
       " 1,\n",
       " 0,\n",
       " 0,\n",
       " ...]"
      ]
     },
     "execution_count": 64,
     "metadata": {},
     "output_type": "execute_result"
    }
   ],
   "source": [
    "q"
   ]
  },
  {
   "cell_type": "code",
   "execution_count": null,
   "metadata": {},
   "outputs": [],
   "source": []
  },
  {
   "cell_type": "code",
   "execution_count": 25,
   "metadata": {},
   "outputs": [
    {
     "data": {
      "text/plain": [
       "'1.12.0'"
      ]
     },
     "execution_count": 25,
     "metadata": {},
     "output_type": "execute_result"
    }
   ],
   "source": [
    "tf.VERSION"
   ]
  },
  {
   "cell_type": "code",
   "execution_count": 43,
   "metadata": {},
   "outputs": [
    {
     "data": {
      "text/plain": [
       "True"
      ]
     },
     "execution_count": 43,
     "metadata": {},
     "output_type": "execute_result"
    }
   ],
   "source": [
    "False is False"
   ]
  },
  {
   "cell_type": "code",
   "execution_count": 26,
   "metadata": {},
   "outputs": [],
   "source": [
    "path = 'Training'"
   ]
  },
  {
   "cell_type": "code",
   "execution_count": 37,
   "metadata": {},
   "outputs": [],
   "source": [
    "lab = {}\n"
   ]
  },
  {
   "cell_type": "code",
   "execution_count": 27,
   "metadata": {},
   "outputs": [],
   "source": [
    "def load_data(n, vocab_size, sequence_length, tokenizer=None):\n",
    "    # Dataset paths\n",
    "    # \tpath = '/'\n",
    "    questions_path = path + '/Quest_Answers.json'\n",
    "#     subset_questions_path = path + '/subsetQs' + '.json'\n",
    "    images_path = path + '/images/' \n",
    "\n",
    "    x_text = []     # List of questions\n",
    "    x_image = []    # List of images\n",
    "    y = []          # List of answers\n",
    "    num_labels = 0  # Current number of labels, used to create index mapping\n",
    "    labels = {}     # Dictionary mapping of ints to labels\n",
    "    images = {}     # Dictionary of images, to minimize number of imread ops\n",
    "\n",
    "    # Attempt to load saved JSON subset of the questions\n",
    "    print('Loading data...')\n",
    "\n",
    " \n",
    "    with open(questions_path) as f:\n",
    "        data = json.load(f)\n",
    "\n",
    "    data = data['quest_answers'][0:n]\n",
    "    print('JSON subset saved to file...')\n",
    "\n",
    "    # Store image data and labels in dictionaries\n",
    "    print('Storing image data...')\n",
    "\n",
    "    for q in data[0:n]:\n",
    "        # Create an index for each answer\n",
    "        if not q['Answer'] in labels :\n",
    "            labels[q['Answer']] = num_labels\n",
    "            num_labels += 1\n",
    "        \n",
    "\n",
    "        # Create an index for each image\n",
    "        if not q['Image'] in images:\n",
    "            images[q['Image']] = imread(images_path + q['Image'] + '.png', pilmode='RGB')\n",
    "\n",
    "        x_text.append(q['Question'])\n",
    "        x_image.append(images[q['Image']])\n",
    "        y.append(labels[q['Answer']])\n",
    "\n",
    "    # Convert question corpus into sequential encoding for LSTM\n",
    "    print('Processing text data...')\n",
    "\n",
    "    if not tokenizer:\n",
    "        tokenizer = Tokenizer(num_words=vocab_size)\n",
    "\n",
    "    tokenizer.fit_on_texts(x_text)\n",
    "    sequences = tokenizer.texts_to_sequences(x_text)\n",
    "    x_text = sequence.pad_sequences(sequences, maxlen=sequence_length)\n",
    "\n",
    "    # Convert x_image to np array\n",
    "    x_image = np.array(x_image)\n",
    "\n",
    "    # Convert labels to categorical labels\n",
    "    y = keras.utils.to_categorical(y, num_labels)\n",
    "    print(len(data))\n",
    "    print('Text: ', x_text.shape)\n",
    "    print('Image: ', x_image.shape)\n",
    "    print('Labels: ', y.shape)\n",
    "    print(num_labels)\n",
    "    return ([x_text, x_image], y), num_labels, tokenizer\n"
   ]
  },
  {
   "cell_type": "code",
   "execution_count": 28,
   "metadata": {},
   "outputs": [],
   "source": [
    "def process_image(x):\n",
    "    target_height, target_width = 128, 128\n",
    "#     rotation_range = .05  # In radians\n",
    "#     degs = ra.uniform(-rotation_range, rotation_range)\n",
    "    x = tf.image.resize_images(x, (target_height, target_width), method=tf.image.ResizeMethod.AREA)\n",
    "#     x = tf.contrib.image.rotate(x, degs)\n",
    "    return x"
   ]
  },
  {
   "cell_type": "code",
   "execution_count": 29,
   "metadata": {},
   "outputs": [],
   "source": [
    "def get_relation_vectors(x):\n",
    "    objects = []\n",
    "    relations = []\n",
    "    shape = K.int_shape(x)\n",
    "    k = 30     # Hyperparameter which controls how many objects are considered\n",
    "    keys = []\n",
    "\n",
    "    # Get k unique random objects\n",
    "    while k > 0:\n",
    "        i = ra.randint(0, shape[1]-1)\n",
    "        j = ra.randint(0, shape[2]-1)\n",
    "        if not (i, j) in keys:\n",
    "            keys.append((i, j))\n",
    "            objects.append(x[:, i, j, :])\n",
    "            k -= 1\n",
    "\n",
    "    # Concatenate each pair of objects to form a relation vector\n",
    "    for i in range(len(objects)):\n",
    "        for j in range(i, len(objects)):\n",
    "            relations.append(K.concatenate([objects[i], objects[j]], axis=1))\n",
    "\n",
    "    # Restack objects into Keras tensor [batch, relation_ID, relation_vectors]\n",
    "    return K.permute_dimensions(K.stack([r for r in relations], axis=0), [1, 0, 2])\n"
   ]
  },
  {
   "cell_type": "code",
   "execution_count": 34,
   "metadata": {},
   "outputs": [],
   "source": [
    "samples = 20000"
   ]
  },
  {
   "cell_type": "code",
   "execution_count": 35,
   "metadata": {},
   "outputs": [],
   "source": [
    "learning_rate = .00025\n",
    "vocab_size = 512\n",
    "sequence_length = 64\n",
    "img_rows, img_cols = 120, 160\n",
    "image_input_shape = (img_rows, img_cols, 3)"
   ]
  },
  {
   "cell_type": "code",
   "execution_count": 36,
   "metadata": {},
   "outputs": [
    {
     "name": "stdout",
     "output_type": "stream",
     "text": [
      "Loading data...\n",
      "JSON subset saved to file...\n",
      "Storing image data...\n",
      "Processing text data...\n",
      "20000\n",
      "Text:  (20000, 64)\n",
      "Image:  (20000, 120, 160, 3)\n",
      "Labels:  (20000, 24)\n",
      "24\n"
     ]
    }
   ],
   "source": [
    "(x_train, y_train), num_labels, tokenizer = load_data(samples, vocab_size, sequence_length)"
   ]
  },
  {
   "cell_type": "code",
   "execution_count": 17,
   "metadata": {},
   "outputs": [],
   "source": [
    "text_inputs = Input(shape=(sequence_length,), name='text_input')\n",
    "text_x = Embedding(vocab_size, 128)(text_inputs)\n",
    "text_x = LSTM(128,return_sequences=True,activation='tanh')(text_x)\n",
    "text_x = Dropout(0.5)(text_x)\n",
    "text_x = LSTM(128)(text_x)\n",
    "\n"
   ]
  },
  {
   "cell_type": "markdown",
   "metadata": {},
   "source": [
    "LSTM above\n",
    "CNN Below"
   ]
  },
  {
   "cell_type": "code",
   "execution_count": 18,
   "metadata": {},
   "outputs": [
    {
     "name": "stdout",
     "output_type": "stream",
     "text": [
      "Tensor(\"lambda_1/resize_images/ResizeArea:0\", shape=(?, 128, 128, 3), dtype=float32)\n",
      "Tensor(\"max_pooling2d_2/MaxPool:0\", shape=(?, 29, 29, 16), dtype=float32)\n"
     ]
    }
   ],
   "source": [
    "image_inputs = Input(shape=image_input_shape, name='image_input')\n",
    "image_x = Lambda(process_image)(image_inputs)\n",
    "print(image_x)\n",
    "image_x = Conv2D(8, kernel_size=(3, 3), strides=1, activation='relu')(image_x)\n",
    "image_x = BatchNormalization()(image_x)\n",
    "image_x = Conv2D(8, kernel_size=(3, 3), strides=1, activation='relu')(image_x)\n",
    "image_x = BatchNormalization()(image_x)\n",
    "image_x = MaxPooling2D(pool_size=2)(image_x)\n",
    "\n",
    "image_x = Conv2D(16, kernel_size=(3, 3), strides=1, activation='relu')(image_x)\n",
    "image_x = BatchNormalization()(image_x)\n",
    "image_x = Conv2D(16, kernel_size=(3, 3), strides=1, activation='relu')(image_x)\n",
    "image_x = BatchNormalization()(image_x)\n",
    "image_x = MaxPooling2D(pool_size=2)(image_x)\n",
    "\n",
    "print(image_x)\n",
    "shape = K.int_shape(image_x)"
   ]
  },
  {
   "cell_type": "code",
   "execution_count": 19,
   "metadata": {
    "scrolled": false
   },
   "outputs": [
    {
     "name": "stdout",
     "output_type": "stream",
     "text": [
      "(None, 29, 29, 16)\n"
     ]
    }
   ],
   "source": [
    "print(shape)"
   ]
  },
  {
   "cell_type": "code",
   "execution_count": 20,
   "metadata": {},
   "outputs": [
    {
     "data": {
      "text/plain": [
       "(None, 29, 29, 16)"
      ]
     },
     "execution_count": 20,
     "metadata": {},
     "output_type": "execute_result"
    }
   ],
   "source": [
    "K.int_shape(image_x)"
   ]
  },
  {
   "cell_type": "code",
   "execution_count": 21,
   "metadata": {},
   "outputs": [
    {
     "data": {
      "text/plain": [
       "128"
      ]
     },
     "execution_count": 21,
     "metadata": {},
     "output_type": "execute_result"
    }
   ],
   "source": [
    "K.int_shape(text_x)[1]"
   ]
  },
  {
   "cell_type": "markdown",
   "metadata": {},
   "source": [
    "RN below\n"
   ]
  },
  {
   "cell_type": "code",
   "execution_count": 22,
   "metadata": {},
   "outputs": [],
   "source": [
    "RN_inputs = Input(shape=(1, (2 * shape[3]) + K.int_shape(text_x)[1]))\n",
    "RN_x = Dense(256, activation='relu')(RN_inputs)\n",
    "RN_x = Dense(256, activation='relu')(RN_x)\n",
    "RN_x = Dense(256, activation='relu')(RN_x)\n",
    "RN_x = Dropout(.5)(RN_x)\n",
    "RN_outputs = Dense(256, activation='relu')(RN_x)\n",
    "RN = Model(inputs=RN_inputs, outputs=RN_outputs)"
   ]
  },
  {
   "cell_type": "code",
   "execution_count": 23,
   "metadata": {},
   "outputs": [
    {
     "data": {
      "text/plain": [
       "<tf.Tensor 'transpose:0' shape=(?, 465, 32) dtype=float32>"
      ]
     },
     "execution_count": 23,
     "metadata": {},
     "output_type": "execute_result"
    }
   ],
   "source": [
    "# image_x.shape\n",
    "get_relation_vectors(image_x)"
   ]
  },
  {
   "cell_type": "code",
   "execution_count": 24,
   "metadata": {},
   "outputs": [],
   "source": [
    "#\n",
    "# Implements g_theta\n",
    "#\n",
    "relations = Lambda(get_relation_vectors)(image_x)           # Get tensor [batch, relation_ID, relation_vectors]\n",
    "question = RepeatVector(K.int_shape(relations)[1])(text_x)  # Shape question vector to same size as relations\n",
    "relations = Concatenate(axis=2)([relations, question])      # Merge tensors [batch, relation_ID, relation_vectors, question_vector]\n",
    "g = TimeDistributed(RN)(relations)                          # TimeDistributed applies RN to relation vectors.\n",
    "g = Lambda(lambda x: K.sum(x, axis=1))(g) # Sum over relation_ID"
   ]
  },
  {
   "cell_type": "code",
   "execution_count": 25,
   "metadata": {},
   "outputs": [],
   "source": [
    "#\n",
    "# Define f_phi\n",
    "#\n",
    "f = Dense(256, activation='relu')(g)\n",
    "f = Dropout(.5)(f)\n",
    "f = Dense(256, activation='relu')(f)\n",
    "f = Dropout(.5)(f)\n",
    "outputs = Dense(num_labels, activation='softmax')(f)\n"
   ]
  },
  {
   "cell_type": "code",
   "execution_count": 32,
   "metadata": {
    "scrolled": true
   },
   "outputs": [
    {
     "name": "stdout",
     "output_type": "stream",
     "text": [
      "__________________________________________________________________________________________________\n",
      "Layer (type)                    Output Shape         Param #     Connected to                     \n",
      "==================================================================================================\n",
      "image_input (InputLayer)        (None, 120, 160, 3)  0                                            \n",
      "__________________________________________________________________________________________________\n",
      "lambda_1 (Lambda)               (None, 128, 128, 3)  0           image_input[0][0]                \n",
      "__________________________________________________________________________________________________\n",
      "conv2d_1 (Conv2D)               (None, 126, 126, 8)  224         lambda_1[0][0]                   \n",
      "__________________________________________________________________________________________________\n",
      "batch_normalization_1 (BatchNor (None, 126, 126, 8)  32          conv2d_1[0][0]                   \n",
      "__________________________________________________________________________________________________\n",
      "conv2d_2 (Conv2D)               (None, 124, 124, 8)  584         batch_normalization_1[0][0]      \n",
      "__________________________________________________________________________________________________\n",
      "batch_normalization_2 (BatchNor (None, 124, 124, 8)  32          conv2d_2[0][0]                   \n",
      "__________________________________________________________________________________________________\n",
      "max_pooling2d_1 (MaxPooling2D)  (None, 62, 62, 8)    0           batch_normalization_2[0][0]      \n",
      "__________________________________________________________________________________________________\n",
      "conv2d_3 (Conv2D)               (None, 60, 60, 16)   1168        max_pooling2d_1[0][0]            \n",
      "__________________________________________________________________________________________________\n",
      "text_input (InputLayer)         (None, 64)           0                                            \n",
      "__________________________________________________________________________________________________\n",
      "batch_normalization_3 (BatchNor (None, 60, 60, 16)   64          conv2d_3[0][0]                   \n",
      "__________________________________________________________________________________________________\n",
      "embedding_1 (Embedding)         (None, 64, 128)      65536       text_input[0][0]                 \n",
      "__________________________________________________________________________________________________\n",
      "conv2d_4 (Conv2D)               (None, 58, 58, 16)   2320        batch_normalization_3[0][0]      \n",
      "__________________________________________________________________________________________________\n",
      "lstm_1 (LSTM)                   (None, 64, 128)      131584      embedding_1[0][0]                \n",
      "__________________________________________________________________________________________________\n",
      "batch_normalization_4 (BatchNor (None, 58, 58, 16)   64          conv2d_4[0][0]                   \n",
      "__________________________________________________________________________________________________\n",
      "dropout_1 (Dropout)             (None, 64, 128)      0           lstm_1[0][0]                     \n",
      "__________________________________________________________________________________________________\n",
      "max_pooling2d_2 (MaxPooling2D)  (None, 29, 29, 16)   0           batch_normalization_4[0][0]      \n",
      "__________________________________________________________________________________________________\n",
      "lstm_2 (LSTM)                   (None, 128)          131584      dropout_1[0][0]                  \n",
      "__________________________________________________________________________________________________\n",
      "lambda_2 (Lambda)               (None, 465, 32)      0           max_pooling2d_2[0][0]            \n",
      "__________________________________________________________________________________________________\n",
      "repeat_vector_1 (RepeatVector)  (None, 465, 128)     0           lstm_2[0][0]                     \n",
      "__________________________________________________________________________________________________\n",
      "concatenate_1 (Concatenate)     (None, 465, 160)     0           lambda_2[0][0]                   \n",
      "                                                                 repeat_vector_1[0][0]            \n",
      "__________________________________________________________________________________________________\n",
      "time_distributed_1 (TimeDistrib (None, 465, 256)     238592      concatenate_1[0][0]              \n",
      "__________________________________________________________________________________________________\n",
      "lambda_3 (Lambda)               (None, 256)          0           time_distributed_1[0][0]         \n",
      "__________________________________________________________________________________________________\n",
      "dense_5 (Dense)                 (None, 256)          65792       lambda_3[0][0]                   \n",
      "__________________________________________________________________________________________________\n",
      "dropout_3 (Dropout)             (None, 256)          0           dense_5[0][0]                    \n",
      "__________________________________________________________________________________________________\n",
      "dense_6 (Dense)                 (None, 256)          65792       dropout_3[0][0]                  \n",
      "__________________________________________________________________________________________________\n",
      "dropout_4 (Dropout)             (None, 256)          0           dense_6[0][0]                    \n",
      "__________________________________________________________________________________________________\n",
      "dense_7 (Dense)                 (None, 24)           6168        dropout_4[0][0]                  \n",
      "==================================================================================================\n",
      "Total params: 709,536\n",
      "Trainable params: 709,440\n",
      "Non-trainable params: 96\n",
      "__________________________________________________________________________________________________\n",
      "None\n"
     ]
    }
   ],
   "source": [
    "\n",
    "model = Model(inputs=[text_inputs, image_inputs], outputs=outputs) \n",
    "print(model.summary())\n",
    "model.compile(optimizer=Adam(lr=learning_rate), loss='categorical_crossentropy', metrics=['accuracy'])\n"
   ]
  },
  {
   "cell_type": "code",
   "execution_count": 33,
   "metadata": {},
   "outputs": [],
   "source": [
    "plot_model(model)"
   ]
  },
  {
   "attachments": {
    "image.png": {
     "image/png": "[encoded data removed]"
    }
   },
   "cell_type": "markdown",
   "metadata": {},
   "source": [
    "![image.png](attachment:image.png)\n"
   ]
  },
  {
   "cell_type": "code",
   "execution_count": 34,
   "metadata": {},
   "outputs": [],
   "source": [
    "epochs = 1\n",
    "batch_size = 256\n"
   ]
  },
  {
   "cell_type": "code",
   "execution_count": 35,
   "metadata": {
    "scrolled": false
   },
   "outputs": [
    {
     "name": "stdout",
     "output_type": "stream",
     "text": [
      "Train on 99000 samples, validate on 1000 samples\n",
      "Epoch 1/1\n",
      "99000/99000 [==============================] - 199s 2ms/step - loss: 2.9160 - acc: 0.2984 - val_loss: 1.5390 - val_acc: 0.3450\n"
     ]
    },
    {
     "data": {
      "text/plain": [
       "<keras.callbacks.History at 0x1f5e5ef5550>"
      ]
     },
     "execution_count": 35,
     "metadata": {},
     "output_type": "execute_result"
    }
   ],
   "source": [
    "model.fit(x_train, y_train, validation_split=0.01,\n",
    "\t      batch_size=batch_size, \n",
    "\t      epochs=epochs, \n",
    "\t      shuffle=True)"
   ]
  },
  {
   "cell_type": "code",
   "execution_count": 37,
   "metadata": {},
   "outputs": [
    {
     "name": "stdout",
     "output_type": "stream",
     "text": [
      "Train on 99000 samples, validate on 1000 samples\n",
      "Epoch 1/3\n",
      "99000/99000 [==============================] - 195s 2ms/step - loss: 1.4336 - acc: 0.3623 - val_loss: 1.1575 - val_acc: 0.3930\n",
      "Epoch 2/3\n",
      "99000/99000 [==============================] - 197s 2ms/step - loss: 1.2152 - acc: 0.3899 - val_loss: 1.0494 - val_acc: 0.4440\n",
      "Epoch 3/3\n",
      "99000/99000 [==============================] - 196s 2ms/step - loss: 1.0832 - acc: 0.4183 - val_loss: 1.0073 - val_acc: 0.4180\n"
     ]
    },
    {
     "data": {
      "text/plain": [
       "<keras.callbacks.History at 0x1f5db351128>"
      ]
     },
     "execution_count": 37,
     "metadata": {},
     "output_type": "execute_result"
    }
   ],
   "source": [
    "model.fit(x_train, y_train, validation_split=0.01,\n",
    "\t      batch_size=batch_size, \n",
    "\t      epochs=epochs*3, \n",
    "\t      shuffle=True)"
   ]
  },
  {
   "cell_type": "code",
   "execution_count": 41,
   "metadata": {
    "scrolled": false
   },
   "outputs": [],
   "source": [
    "model.save('Models_nnfl/model_4180_1lakh.h5')"
   ]
  },
  {
   "cell_type": "code",
   "execution_count": null,
   "metadata": {},
   "outputs": [],
   "source": []
  },
  {
   "cell_type": "code",
   "execution_count": null,
   "metadata": {},
   "outputs": [],
   "source": []
  }
 ],
 "metadata": {
  "kernelspec": {
   "display_name": "Python 3",
   "language": "python",
   "name": "python3"
  },
  "language_info": {
   "codemirror_mode": {
    "name": "ipython",
    "version": 3
   },
   "file_extension": ".py",
   "mimetype": "text/x-python",
   "name": "python",
   "nbconvert_exporter": "python",
   "pygments_lexer": "ipython3",
   "version": "3.6.6"
  }
 },
 "nbformat": 4,
 "nbformat_minor": 2
}
